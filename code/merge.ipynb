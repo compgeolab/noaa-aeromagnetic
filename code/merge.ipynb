{
 "cells": [
  {
   "cell_type": "markdown",
   "metadata": {},
   "source": [
    "# Load all survey data and merge into a single dataset\n",
    "\n",
    "We'll load all the data downloaded in [download.ipynb](download.ipynb) and merge them into an `xarray.Dataset`, including relevant metadata. This can make the data more easily accessible if we want to use the entire thing. \n",
    "\n",
    "Not sure this will be a good idea since surveys are spread out in the globe. Let's see."
   ]
  },
  {
   "cell_type": "code",
   "execution_count": 1,
   "metadata": {},
   "outputs": [],
   "source": [
    "import xarray as xr\n",
    "import pandas as pd\n",
    "import numpy as np\n",
    "import pygmt as pg\n",
    "import matplotlib.pyplot as plt\n",
    "import verde as vd\n",
    "import zipfile\n",
    "from pathlib import Path\n",
    "from tqdm import tqdm\n",
    "from io import StringIO"
   ]
  },
  {
   "cell_type": "code",
   "execution_count": 2,
   "metadata": {},
   "outputs": [
    {
     "name": "stderr",
     "output_type": "stream",
     "text": [
      "/home/leo/miniconda3/envs/noaa-aeromagnetic/lib/python3.8/site-packages/ipykernel/ipkernel.py:283: DeprecationWarning: `should_run_async` will not call `transform_cell` automatically in the future. Please pass the result to `transformed_cell` argument and any exception that happen during thetransform in `preprocessing_exc_tuple` in IPython 7.17 and above.\n",
      "  and should_run_async(code)\n"
     ]
    }
   ],
   "source": [
    "output = Path(\"..\") / \"data\"\n",
    "output_raw = output / \"raw\"\n",
    "output_processed = output / \"intermediate\"\n",
    "if not output_processed.exists():\n",
    "    output_processed.mkdir()"
   ]
  },
  {
   "cell_type": "markdown",
   "metadata": {},
   "source": [
    "Convert the MAG88T files to CSV."
   ]
  },
  {
   "cell_type": "code",
   "execution_count": 3,
   "metadata": {},
   "outputs": [
    {
     "name": "stderr",
     "output_type": "stream",
     "text": [
      "100%|█████████████████████████████████████████████████████████████| 131/131 [00:37<00:00,  3.49it/s]\n"
     ]
    }
   ],
   "source": [
    "archive_name = output_raw / \"admap_bas_post1990.zip\"\n",
    "for archive_name in tqdm(list(output_raw.glob(\"*.zip\")), ncols=100):\n",
    "    with zipfile.ZipFile(archive_name) as archive:\n",
    "        data_files = [\n",
    "            fname for fname in archive.namelist() \n",
    "            if \"mag88t\" in fname and fname.endswith(\".m88t\")\n",
    "        ]\n",
    "        assert len(data_files) == 1\n",
    "        data_file = data_files[0]\n",
    "        with archive.open(data_file) as survey_file:\n",
    "            csv_fname = Path(data_file).parts[-1].replace(\".m88t\", \".csv\")\n",
    "            with open(output_processed / csv_fname, mode=\"w\") as csv_file:\n",
    "                for line in survey_file:\n",
    "                    csv_file.write(line.decode().replace(\"\\t\", \",\"))"
   ]
  },
  {
   "cell_type": "code",
   "execution_count": null,
   "metadata": {},
   "outputs": [],
   "source": []
  }
 ],
 "metadata": {
  "kernelspec": {
   "display_name": "Python [conda env:noaa-aeromagnetic]",
   "language": "python",
   "name": "conda-env-noaa-aeromagnetic-py"
  },
  "language_info": {
   "codemirror_mode": {
    "name": "ipython",
    "version": 3
   },
   "file_extension": ".py",
   "mimetype": "text/x-python",
   "name": "python",
   "nbconvert_exporter": "python",
   "pygments_lexer": "ipython3",
   "version": "3.8.6"
  }
 },
 "nbformat": 4,
 "nbformat_minor": 4
}
