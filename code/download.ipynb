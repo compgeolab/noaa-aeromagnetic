{
 "cells": [
  {
   "cell_type": "markdown",
   "metadata": {},
   "source": [
    "# Download all survey data\n",
    "\n",
    "This notebook will download all survey data available on the [NOAA NCEI Aeromagnetic data catalogue](https://www.ngdc.noaa.gov/geomag/aeromag.shtml). These are global **public domain** datasets."
   ]
  },
  {
   "cell_type": "code",
   "execution_count": 1,
   "metadata": {},
   "outputs": [],
   "source": [
    "import json\n",
    "from pathlib import Path\n",
    "import matplotlib.pyplot as plt\n",
    "import pooch\n",
    "import requests\n",
    "from tqdm import tqdm"
   ]
  },
  {
   "cell_type": "markdown",
   "metadata": {},
   "source": [
    "Save all files to the `data` folder and place the zip files with the survey data in the `data/raw` folder."
   ]
  },
  {
   "cell_type": "code",
   "execution_count": 2,
   "metadata": {},
   "outputs": [],
   "source": [
    "output = Path(\"..\") / \"data\"\n",
    "output_raw = output / \"raw\""
   ]
  },
  {
   "cell_type": "markdown",
   "metadata": {},
   "source": [
    "## Survey catalogue\n",
    "\n",
    "First, we download a catalogue of all survey metadata and download links. I found this JSON file by inspecting the source of the NOAA page (apparently it's used to populate the table in the page using Javascript). We can use it to find download links to all surveys."
   ]
  },
  {
   "cell_type": "code",
   "execution_count": 3,
   "metadata": {},
   "outputs": [
    {
     "name": "stderr",
     "output_type": "stream",
     "text": [
      "Downloading data from 'https://www.ngdc.noaa.gov/geomag/aeromag-project.txt' to file '/home/leo/src/noaa-aeromagnetic/data/noaa-aeromag-catalogue.json'.\n",
      "100%|███████████████████████████████████████| 251k/251k [00:00<00:00, 83.9MB/s]\n"
     ]
    }
   ],
   "source": [
    "catalogue_url = \"https://www.ngdc.noaa.gov/geomag/aeromag-project.txt\"\n",
    "catalogue_hash = \"sha256:162e30f2d2542e96bd215b8b51f1585a3282e5fc6c225507588812f524b0d2a2\"\n",
    "catalogue_file = pooch.retrieve(\n",
    "    catalogue_url, \n",
    "    known_hash=catalogue_hash, \n",
    "    path=output, \n",
    "    fname=\"noaa-aeromag-catalogue.json\", \n",
    "    downloader=pooch.HTTPDownloader(progressbar=True)\n",
    ")"
   ]
  },
  {
   "cell_type": "markdown",
   "metadata": {},
   "source": [
    "Now we can read in the catalogue as a `dict` using Python's `json` module."
   ]
  },
  {
   "cell_type": "code",
   "execution_count": 4,
   "metadata": {},
   "outputs": [
    {
     "name": "stdout",
     "output_type": "stream",
     "text": [
      "There are 139 surveys available.\n"
     ]
    }
   ],
   "source": [
    "with open(catalogue_file) as file:\n",
    "    catalogue = json.load(file)[\"data\"] \n",
    "    \n",
    "print(f\"There are {len(catalogue)} surveys available.\")"
   ]
  },
  {
   "cell_type": "markdown",
   "metadata": {},
   "source": [
    "The catalogue is a list of dictionaries with survey metadata and some links. Here is an example:"
   ]
  },
  {
   "cell_type": "code",
   "execution_count": 5,
   "metadata": {},
   "outputs": [
    {
     "data": {
      "text/plain": [
       "{'SURVEY_ID': 'NRL_LINCOLN-SEA75',\n",
       " 'FORMAT_88': 'MAG88T',\n",
       " 'PARAMS_CO': 'TR',\n",
       " 'DATE_CREAT': 20140627,\n",
       " 'INST_SRC': 'US Naval Research Laboratory',\n",
       " 'COUNTRY': 'United States',\n",
       " 'PLATFORM': 'RP-3-A Navy Buno 149670',\n",
       " 'PLAT_TYP': 'Airplane',\n",
       " 'CHIEF': 'R.H. Feden',\n",
       " 'PROJECT': 'Lincoln Sea',\n",
       " 'DATE_DEP': 19750417,\n",
       " 'PORT_DEP': 'Thule, Greenland',\n",
       " 'DATE_ARR': 19750503,\n",
       " 'PORT_ARR': 'Thule, Greenland',\n",
       " 'POS_INFO': 'Litton 51 INS',\n",
       " 'LAT_TOP': 87.66,\n",
       " 'LAT_BOTTOM': 73.37,\n",
       " 'LON_LEFT': -146.81,\n",
       " 'LON_RIGHT': -9.99,\n",
       " 'TRK_SPACE': 'NE - SW: 9.0 to 17.0 Kilometers',\n",
       " 'NOM_ALT': '300 meters ASL',\n",
       " 'NOM_SPEED': '138.4 knots ave calculated',\n",
       " 'TOTAL_OBS': 129421,\n",
       " 'TOTAL_DIST': 18850,\n",
       " 'INSTRUMENT': 'Geometrics G-801/3 Proton Precession',\n",
       " 'SAMP_RATE': '2.5 seconds',\n",
       " 'TOW_DIST': '',\n",
       " 'SENSITIV': '',\n",
       " 'REF_FIELD': 'DGRF',\n",
       " 'ADD_DOC': 'A write up about the survey can be found in the \"Journal of Geophysical Research\", vol 84, no. B3, p. 1071 - 1089, 1979',\n",
       " 'DATE_ADDED': '27-Jun-14',\n",
       " 'PROJECT_ID': 'NRL Arctic',\n",
       " 'PARAM_ALL': 'DIGITAL',\n",
       " 'PARAM_TOTF': 'DIGITAL',\n",
       " 'PARAM_RESF': 'DIGITAL',\n",
       " 'PARAM_XYZ': '',\n",
       " 'PARAM_DHZ': '',\n",
       " 'START_YR': 1975,\n",
       " 'END_YR': 1975,\n",
       " 'LINK_PROJ': 'https://www.ngdc.noaa.gov/mgg/trk/aeromag/nrl_arctic/nrl_arctic.htm',\n",
       " 'LINK_SURV': 'https://www.ngdc.noaa.gov/mgg/trk/aeromag/nrl_arctic/nrl_lincoln-sea75/nrl_lincoln-sea75.htm',\n",
       " 'Survey_Data': 'https://www.ngdc.noaa.gov/mgg/trk/aeromag/nrl_arctic/nrl_lincoln-sea75/nrl_lincoln-sea75.zip',\n",
       " 'Project_Data': 'https://www.ngdc.noaa.gov/mgg/trk/aeromag/nrl_arctic/nrl_arctic.zip',\n",
       " 'Image_Preview': 'https://www.ngdc.noaa.gov/mgg/trk/aeromag/nrl_arctic/nrl_arctic.jpg',\n",
       " 'PUBLISH': 'Y',\n",
       " 'PREVIOUS_STATE': 'N'}"
      ]
     },
     "execution_count": 5,
     "metadata": {},
     "output_type": "execute_result"
    }
   ],
   "source": [
    "catalogue[0]"
   ]
  },
  {
   "cell_type": "markdown",
   "metadata": {},
   "source": [
    "What we're after is the `Survey_Data` URL. We should make sure that all entries in the catalogue have one of those."
   ]
  },
  {
   "cell_type": "code",
   "execution_count": 6,
   "metadata": {},
   "outputs": [],
   "source": [
    "assert all(\"Survey_Data\" in entry for entry in catalogue)"
   ]
  },
  {
   "cell_type": "markdown",
   "metadata": {},
   "source": [
    "## Estimate total download size\n",
    "\n",
    "Before commiting to download, let's see how much disk space will be required. We can ping the server and ask for the size of each file. \n",
    "\n",
    "**Warning**: The size reported by the server can be wrong so be careful not to run out of disk space."
   ]
  },
  {
   "cell_type": "code",
   "execution_count": 7,
   "metadata": {},
   "outputs": [
    {
     "name": "stderr",
     "output_type": "stream",
     "text": [
      "100%|█████████████████████████████████████████████████████████████| 139/139 [02:20<00:00,  1.01s/it]\n"
     ]
    }
   ],
   "source": [
    "file_sizes = []\n",
    "failed = []\n",
    "for entry in tqdm(catalogue, ncols=100):\n",
    "    response = requests.get(entry[\"Survey_Data\"], stream=True)\n",
    "    # Keep track of any failed requests\n",
    "    if response.status_code != 200:\n",
    "        failed.append(entry[\"SURVEY_ID\"])\n",
    "    # Convert bytes to MB\n",
    "    file_sizes.append(int(response.headers[\"Content-length\"]) * 1e-6)"
   ]
  },
  {
   "cell_type": "markdown",
   "metadata": {},
   "source": [
    "Check if any of the requests failed."
   ]
  },
  {
   "cell_type": "code",
   "execution_count": 8,
   "metadata": {},
   "outputs": [
    {
     "name": "stdout",
     "output_type": "stream",
     "text": [
      "Failed connections:\n",
      "  1: DTU_ICEGRAV-PENINSULA1\n",
      "  2: DTU_ICEGRAV-PENINSULA2\n",
      "  3: DTU_ICEGRAV-PENINSULA3\n",
      "  4: DTU_ICEGRAV-TROLL\n",
      "  5: MAGCAS\n",
      "  6: MAG1\n",
      "  7: MAGCAV\n",
      "  8: MAGSIL\n"
     ]
    }
   ],
   "source": [
    "print(\"Failed connections:\")\n",
    "for i, survey in enumerate(failed):\n",
    "    print(f\"  {i + 1}: {survey}\")"
   ]
  },
  {
   "cell_type": "markdown",
   "metadata": {},
   "source": [
    "There seems to be issues with the server not finding these surveys so we'll likely not be able to download them.\n",
    "\n",
    "Now we can calculate the total download size for the surveys that are available."
   ]
  },
  {
   "cell_type": "code",
   "execution_count": 9,
   "metadata": {},
   "outputs": [
    {
     "name": "stdout",
     "output_type": "stream",
     "text": [
      "Total download size: 4173.499881000002 MB\n"
     ]
    }
   ],
   "source": [
    "print(f\"Total download size: {sum(file_sizes)} MB\")"
   ]
  },
  {
   "cell_type": "markdown",
   "metadata": {},
   "source": [
    "We can also plot a historgram of the file size so we know what to expect from individual surveys."
   ]
  },
  {
   "cell_type": "code",
   "execution_count": 10,
   "metadata": {},
   "outputs": [
    {
     "data": {
      "image/png": "[encoded data removed]",
      "text/plain": [
       "<Figure size 432x288 with 1 Axes>"
      ]
     },
     "metadata": {
      "needs_background": "light"
     },
     "output_type": "display_data"
    }
   ],
   "source": [
    "plt.figure()\n",
    "plt.title(\"Survey data file size\")\n",
    "plt.hist(file_sizes, bins=\"auto\")\n",
    "plt.xlabel(\"File size (MB)\")\n",
    "plt.grid()\n",
    "plt.show()"
   ]
  },
  {
   "cell_type": "markdown",
   "metadata": {},
   "source": [
    "## Download survey archives\n",
    "\n",
    "Each survey is archived in a zip file with the line magnetic data in an ASCII format (mg88t with a header and a main file). We can download all of the files to the output folder using Pooch. We'll need to disable the Pooch logger so that it doesn't print the \"Downloading...\" message 100s of times."
   ]
  },
  {
   "cell_type": "code",
   "execution_count": 11,
   "metadata": {},
   "outputs": [
    {
     "name": "stderr",
     "output_type": "stream",
     "text": [
      "100%|█████████████████████████████████████████████████████████████| 139/139 [00:06<00:00, 20.92it/s]\n"
     ]
    }
   ],
   "source": [
    "pooch.get_logger().disabled = True\n",
    "\n",
    "failed = []\n",
    "for entry in tqdm(catalogue, ncols=100):\n",
    "    url = entry[\"Survey_Data\"]\n",
    "    try:\n",
    "        pooch.retrieve(url, known_hash=None, path=output_raw, fname=url.split(\"/\")[-1])\n",
    "    except:\n",
    "        failed.append(entry[\"SURVEY_ID\"])\n",
    "        \n",
    "pooch.get_logger().disabled = False"
   ]
  },
  {
   "cell_type": "markdown",
   "metadata": {},
   "source": [
    "Check if the same surveys failed again."
   ]
  },
  {
   "cell_type": "code",
   "execution_count": 12,
   "metadata": {},
   "outputs": [
    {
     "name": "stdout",
     "output_type": "stream",
     "text": [
      "Download failed:\n",
      "  1: DTU_ICEGRAV-PENINSULA1\n",
      "  2: DTU_ICEGRAV-PENINSULA2\n",
      "  3: DTU_ICEGRAV-PENINSULA3\n",
      "  4: DTU_ICEGRAV-TROLL\n",
      "  5: MAGCAS\n",
      "  6: MAG1\n",
      "  7: MAGCAV\n",
      "  8: MAGSIL\n"
     ]
    }
   ],
   "source": [
    "print(\"Download failed:\")\n",
    "for i, survey in enumerate(failed):\n",
    "    print(f\"  {i + 1}: {survey}\")"
   ]
  },
  {
   "cell_type": "markdown",
   "metadata": {},
   "source": [
    "Verify that the right number of files exist in the directory."
   ]
  },
  {
   "cell_type": "code",
   "execution_count": 13,
   "metadata": {},
   "outputs": [],
   "source": [
    "archives = list(output_raw.glob(\"*.zip\"))\n",
    "assert len(archives) == len(catalogue) - len(failed)"
   ]
  },
  {
   "cell_type": "markdown",
   "metadata": {},
   "source": [
    "Check the actual size of the datasets on disk."
   ]
  },
  {
   "cell_type": "code",
   "execution_count": 14,
   "metadata": {},
   "outputs": [
    {
     "name": "stdout",
     "output_type": "stream",
     "text": [
      "Total downloaded size: 4082.5902589999996 MB\n"
     ]
    }
   ],
   "source": [
    "download_sizes = [archive.stat().st_size * 1e-6 for archive in archives]\n",
    "print(f'Total downloaded size: {sum(download_sizes)} MB')"
   ]
  },
  {
   "cell_type": "markdown",
   "metadata": {},
   "source": [
    "Not exactly the same but close enough."
   ]
  }
 ],
 "metadata": {
  "kernelspec": {
   "display_name": "Python [conda env:default] *",
   "language": "python",
   "name": "conda-env-default-py"
  },
  "language_info": {
   "codemirror_mode": {
    "name": "ipython",
    "version": 3
   },
   "file_extension": ".py",
   "mimetype": "text/x-python",
   "name": "python",
   "nbconvert_exporter": "python",
   "pygments_lexer": "ipython3",
   "version": "3.8.0"
  }
 },
 "nbformat": 4,
 "nbformat_minor": 4
}
