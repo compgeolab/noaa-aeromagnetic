{
 "cells": [
  {
   "cell_type": "code",
   "execution_count": 1,
   "metadata": {},
   "outputs": [],
   "source": [
    "import json\n",
    "from pathlib import Path\n",
    "import numpy as np\n",
    "import matplotlib.pyplot as plt\n",
    "import pooch\n",
    "import requests\n",
    "from tqdm import tqdm"
   ]
  },
  {
   "cell_type": "code",
   "execution_count": 2,
   "metadata": {},
   "outputs": [],
   "source": [
    "pooch.get_logger().setLevel(\"WARNING\")"
   ]
  },
  {
   "cell_type": "code",
   "execution_count": 3,
   "metadata": {},
   "outputs": [],
   "source": [
    "output = Path(\"..\") / \"data\" / \"raw\""
   ]
  },
  {
   "cell_type": "code",
   "execution_count": 4,
   "metadata": {},
   "outputs": [],
   "source": [
    "catalogue_url = \"https://www.ngdc.noaa.gov/geomag/aeromag-project.txt\"\n",
    "catalogue_hash = \"sha256:162e30f2d2542e96bd215b8b51f1585a3282e5fc6c225507588812f524b0d2a2\"\n",
    "catalogue_file = pooch.retrieve(\n",
    "    catalogue_url, known_hash=catalogue_hash, path=output, fname=\"aeromag_catalogue.json\"\n",
    ")\n",
    "with open(catalogue_file) as file:\n",
    "    catalogue = json.load(file)[\"data\"]"
   ]
  },
  {
   "cell_type": "code",
   "execution_count": 5,
   "metadata": {},
   "outputs": [
    {
     "data": {
      "text/plain": [
       "139"
      ]
     },
     "execution_count": 5,
     "metadata": {},
     "output_type": "execute_result"
    }
   ],
   "source": [
    "len(catalogue)"
   ]
  },
  {
   "cell_type": "code",
   "execution_count": 6,
   "metadata": {},
   "outputs": [
    {
     "data": {
      "text/plain": [
       "{'SURVEY_ID': 'NRL_LINCOLN-SEA75',\n",
       " 'FORMAT_88': 'MAG88T',\n",
       " 'PARAMS_CO': 'TR',\n",
       " 'DATE_CREAT': 20140627,\n",
       " 'INST_SRC': 'US Naval Research Laboratory',\n",
       " 'COUNTRY': 'United States',\n",
       " 'PLATFORM': 'RP-3-A Navy Buno 149670',\n",
       " 'PLAT_TYP': 'Airplane',\n",
       " 'CHIEF': 'R.H. Feden',\n",
       " 'PROJECT': 'Lincoln Sea',\n",
       " 'DATE_DEP': 19750417,\n",
       " 'PORT_DEP': 'Thule, Greenland',\n",
       " 'DATE_ARR': 19750503,\n",
       " 'PORT_ARR': 'Thule, Greenland',\n",
       " 'POS_INFO': 'Litton 51 INS',\n",
       " 'LAT_TOP': 87.66,\n",
       " 'LAT_BOTTOM': 73.37,\n",
       " 'LON_LEFT': -146.81,\n",
       " 'LON_RIGHT': -9.99,\n",
       " 'TRK_SPACE': 'NE - SW: 9.0 to 17.0 Kilometers',\n",
       " 'NOM_ALT': '300 meters ASL',\n",
       " 'NOM_SPEED': '138.4 knots ave calculated',\n",
       " 'TOTAL_OBS': 129421,\n",
       " 'TOTAL_DIST': 18850,\n",
       " 'INSTRUMENT': 'Geometrics G-801/3 Proton Precession',\n",
       " 'SAMP_RATE': '2.5 seconds',\n",
       " 'TOW_DIST': '',\n",
       " 'SENSITIV': '',\n",
       " 'REF_FIELD': 'DGRF',\n",
       " 'ADD_DOC': 'A write up about the survey can be found in the \"Journal of Geophysical Research\", vol 84, no. B3, p. 1071 - 1089, 1979',\n",
       " 'DATE_ADDED': '27-Jun-14',\n",
       " 'PROJECT_ID': 'NRL Arctic',\n",
       " 'PARAM_ALL': 'DIGITAL',\n",
       " 'PARAM_TOTF': 'DIGITAL',\n",
       " 'PARAM_RESF': 'DIGITAL',\n",
       " 'PARAM_XYZ': '',\n",
       " 'PARAM_DHZ': '',\n",
       " 'START_YR': 1975,\n",
       " 'END_YR': 1975,\n",
       " 'LINK_PROJ': 'https://www.ngdc.noaa.gov/mgg/trk/aeromag/nrl_arctic/nrl_arctic.htm',\n",
       " 'LINK_SURV': 'https://www.ngdc.noaa.gov/mgg/trk/aeromag/nrl_arctic/nrl_lincoln-sea75/nrl_lincoln-sea75.htm',\n",
       " 'Survey_Data': 'https://www.ngdc.noaa.gov/mgg/trk/aeromag/nrl_arctic/nrl_lincoln-sea75/nrl_lincoln-sea75.zip',\n",
       " 'Project_Data': 'https://www.ngdc.noaa.gov/mgg/trk/aeromag/nrl_arctic/nrl_arctic.zip',\n",
       " 'Image_Preview': 'https://www.ngdc.noaa.gov/mgg/trk/aeromag/nrl_arctic/nrl_arctic.jpg',\n",
       " 'PUBLISH': 'Y',\n",
       " 'PREVIOUS_STATE': 'N'}"
      ]
     },
     "execution_count": 6,
     "metadata": {},
     "output_type": "execute_result"
    }
   ],
   "source": [
    "catalogue[0]"
   ]
  },
  {
   "cell_type": "code",
   "execution_count": 7,
   "metadata": {},
   "outputs": [],
   "source": [
    "assert all(\"Project_Data\" in entry for entry in catalogue) and all(\"SURVEY_ID\" in entry for entry in catalogue)"
   ]
  },
  {
   "cell_type": "code",
   "execution_count": 8,
   "metadata": {},
   "outputs": [
    {
     "name": "stderr",
     "output_type": "stream",
     "text": [
      "100%|█████████████████████████████████████████████████████████████| 139/139 [02:04<00:00,  1.12it/s]\n"
     ]
    }
   ],
   "source": [
    "%%time\n",
    "nbytes = []\n",
    "failed = []\n",
    "for i, entry in enumerate(tqdm(catalogue, ncols=100)):\n",
    "    response = requests.get(entry[\"Survey_Data\"], stream=True)\n",
    "    # Keep track of any failed requests\n",
    "    if response.status_code != 200:\n",
    "        failed.append((i, entry[\"SURVEY_ID\"]))\n",
    "    nbytes.append(int(response.headers[\"Content-length\"]))\n",
    "nbytes = np.array(nbytes)"
   ]
  },
  {
   "cell_type": "code",
   "execution_count": 9,
   "metadata": {},
   "outputs": [
    {
     "data": {
      "image/png": "[encoded data removed]",
      "text/plain": [
       "<Figure size 432x288 with 1 Axes>"
      ]
     },
     "metadata": {
      "needs_background": "light"
     },
     "output_type": "display_data"
    }
   ],
   "source": [
    "plt.figure()\n",
    "plt.hist(nbytes * 1e-6, bins=20)\n",
    "plt.xlabel(\"File size (MB)\")\n",
    "plt.show()"
   ]
  },
  {
   "cell_type": "code",
   "execution_count": 10,
   "metadata": {},
   "outputs": [
    {
     "name": "stdout",
     "output_type": "stream",
     "text": [
      "Total download size: 4173.499881 MB\n"
     ]
    }
   ],
   "source": [
    "print(f\"Total download size: {nbytes.sum() * 1e-6} MB\")"
   ]
  },
  {
   "cell_type": "code",
   "execution_count": 8,
   "metadata": {},
   "outputs": [
    {
     "name": "stderr",
     "output_type": "stream",
     "text": [
      "100%|█████████████████████████████████████████████████████████████| 139/139 [00:06<00:00, 21.85it/s]\n"
     ]
    }
   ],
   "source": [
    "failed = []\n",
    "for i, entry in enumerate(tqdm(catalogue, ncols=100)):\n",
    "    try:\n",
    "        pooch.retrieve(entry[\"Survey_Data\"], known_hash=None, path=output)\n",
    "    except:\n",
    "        failed.append(i)"
   ]
  },
  {
   "cell_type": "code",
   "execution_count": null,
   "metadata": {},
   "outputs": [],
   "source": []
  }
 ],
 "metadata": {
  "kernelspec": {
   "display_name": "Python [conda env:default] *",
   "language": "python",
   "name": "conda-env-default-py"
  },
  "language_info": {
   "codemirror_mode": {
    "name": "ipython",
    "version": 3
   },
   "file_extension": ".py",
   "mimetype": "text/x-python",
   "name": "python",
   "nbconvert_exporter": "python",
   "pygments_lexer": "ipython3",
   "version": "3.8.0"
  }
 },
 "nbformat": 4,
 "nbformat_minor": 4
}
